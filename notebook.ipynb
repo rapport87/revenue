{
 "cells": [
  {
   "cell_type": "code",
   "execution_count": 1,
   "metadata": {},
   "outputs": [
    {
     "name": "stderr",
     "output_type": "stream",
     "text": [
      "Fetching pages: 100%|##########| 1/1 [00:00<00:00,  1.55it/s]\n"
     ]
    },
    {
     "name": "stdout",
     "output_type": "stream",
     "text": [
      "Extracting content with LLM\n"
     ]
    }
   ],
   "source": [
    "from bs4 import BeautifulSoup\n",
    "from langchain_community.document_loaders import AsyncHtmlLoader\n",
    "from langchain.text_splitter import (\n",
    "    RecursiveCharacterTextSplitter,\n",
    "    CharacterTextSplitter,\n",
    ")\n",
    "from langchain_community.document_loaders import UnstructuredFileLoader\n",
    "from langchain.vectorstores.faiss import FAISS\n",
    "from langchain_openai import OpenAIEmbeddings\n",
    "from langchain.embeddings import CacheBackedEmbeddings\n",
    "from langchain.schema.runnable import RunnableLambda, RunnablePassthrough\n",
    "from langchain.prompts import ChatPromptTemplate\n",
    "from langchain_openai import ChatOpenAI\n",
    "from langchain.storage import LocalFileStore\n",
    "from langchain_community.document_loaders import SeleniumURLLoader\n",
    "import streamlit as st\n",
    "import os\n",
    "\n",
    "url = \"https://www.nts.go.kr/nts/nurisitemap.do?mi=6789\"\n",
    "loader = AsyncHtmlLoader(url)\n",
    "docs = loader.load()\n",
    "print(\"Extracting content with LLM\")\n",
    "\n",
    "html_content = docs[0].page_content\n",
    "\n",
    "docs\n"
   ]
  },
  {
   "cell_type": "markdown",
   "metadata": {},
   "source": []
  }
 ],
 "metadata": {
  "kernelspec": {
   "display_name": "env",
   "language": "python",
   "name": "python3"
  },
  "language_info": {
   "codemirror_mode": {
    "name": "ipython",
    "version": 3
   },
   "file_extension": ".py",
   "mimetype": "text/x-python",
   "name": "python",
   "nbconvert_exporter": "python",
   "pygments_lexer": "ipython3",
   "version": "3.11.6"
  }
 },
 "nbformat": 4,
 "nbformat_minor": 2
}
